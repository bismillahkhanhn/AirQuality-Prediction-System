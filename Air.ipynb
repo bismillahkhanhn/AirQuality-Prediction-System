{
  "nbformat": 4,
  "nbformat_minor": 0,
  "metadata": {
    "colab": {
      "provenance": [],
      "authorship_tag": "ABX9TyPcdeeEhoKfMqxUZigqm9qQ",
      "include_colab_link": true
    },
    "kernelspec": {
      "name": "python3",
      "display_name": "Python 3"
    },
    "language_info": {
      "name": "python"
    }
  },
  "cells": [
    {
      "cell_type": "markdown",
      "metadata": {
        "id": "view-in-github",
        "colab_type": "text"
      },
      "source": [
        "<a href=\"https://colab.research.google.com/github/bismillahkhanhn/AirQuality-Prediction-System/blob/main/Air.ipynb\" target=\"_parent\"><img src=\"https://colab.research.google.com/assets/colab-badge.svg\" alt=\"Open In Colab\"/></a>"
      ]
    },
    {
      "cell_type": "code",
      "source": [
        "# ==============================\n",
        "# 🌍 AIR QUALITY PREDICTION USING LINEAR REGRESSION (Excel Dataset - Fixed)\n",
        "# ==============================\n",
        "\n",
        "# Step 1: Import Libraries\n",
        "import pandas as pd\n",
        "import numpy as np\n",
        "import matplotlib.pyplot as plt\n",
        "import seaborn as sns\n",
        "from sklearn.model_selection import train_test_split\n",
        "from sklearn.linear_model import LinearRegression\n",
        "from sklearn.metrics import r2_score, mean_squared_error\n",
        "from sklearn.preprocessing import StandardScaler\n",
        "import joblib\n",
        "\n",
        "# Step 2: Load Dataset\n",
        "df = pd.read_excel(\"/content/Dataset_AQI4-5.xlsx\")  # Adjust path if needed\n",
        "print(\"✅ Data Loaded Successfully!\")\n",
        "print(df.head())\n",
        "\n",
        "# Step 3: Explore Data\n",
        "print(\"\\nData Info:\")\n",
        "print(df.info())\n",
        "\n",
        "# Step 4: Identify target column automatically\n",
        "target_col = None\n",
        "for col in df.columns:\n",
        "    if \"PM2.5\" in col.upper() or \"AQI\" in col.upper():\n",
        "        target_col = col\n",
        "        break\n",
        "\n",
        "if target_col is None:\n",
        "    raise ValueError(\"❌ No column found with 'PM2.5' or 'AQI' in its name!\")\n",
        "\n",
        "print(f\"\\n🎯 Target Selected: {target_col}\")\n",
        "\n",
        "# Step 5: Clean Data\n",
        "df = df.dropna(subset=[target_col])  # remove rows with missing target\n",
        "df = df.fillna(df.mean(numeric_only=True))  # fill numeric NaNs with mean\n",
        "\n",
        "# Step 6: Select numeric features only\n",
        "numeric_df = df.select_dtypes(include=[np.number])\n",
        "if target_col not in numeric_df.columns:\n",
        "    # If target got dropped, re-add it (converted to numeric if possible)\n",
        "    numeric_df[target_col] = pd.to_numeric(df[target_col], errors='coerce')\n",
        "\n",
        "# Drop rows with missing target after conversion\n",
        "numeric_df = numeric_df.dropna(subset=[target_col])\n",
        "\n",
        "# Split features and target\n",
        "X = numeric_df.drop(columns=[target_col])\n",
        "y = numeric_df[target_col]\n",
        "\n",
        "print(\"\\n✅ Numeric features selected:\")\n",
        "print(X.columns.tolist())\n",
        "\n",
        "# Step 7: Train-Test Split\n",
        "X_train, X_test, y_train, y_test = train_test_split(X, y, test_size=0.2, random_state=42)\n",
        "\n",
        "# Step 8: Feature Scaling\n",
        "scaler = StandardScaler()\n",
        "X_train_scaled = scaler.fit_transform(X_train)\n",
        "X_test_scaled = scaler.transform(X_test)\n",
        "\n",
        "# Step 9: Train Model\n",
        "model = LinearRegression()\n",
        "model.fit(X_train_scaled, y_train)\n",
        "print(\"\\n✅ Model Training Complete!\")\n",
        "\n",
        "# Step 10: Evaluate Model\n",
        "y_pred = model.predict(X_test_scaled)\n",
        "r2 = r2_score(y_test, y_pred)\n",
        "rmse = np.sqrt(mean_squared_error(y_test, y_pred))\n",
        "\n",
        "print(f\"\\n📊 Model Performance:\")\n",
        "print(f\"R² Score : {r2:.3f}\")\n",
        "print(f\"RMSE     : {rmse:.3f}\")\n",
        "\n",
        "# Step 11: Visualize Actual vs Predicted\n",
        "plt.figure(figsize=(6,5))\n",
        "sns.scatterplot(x=y_test, y=y_pred, alpha=0.7, color='darkorange')\n",
        "plt.xlabel(\"Actual Values\")\n",
        "plt.ylabel(\"Predicted Values\")\n",
        "plt.title(f\"Actual vs Predicted {target_col}\")\n",
        "plt.show()\n",
        "\n",
        "# Step 12: Save Model and Scaler\n",
        "joblib.dump(model, \"linear_regression_aqi.pkl\")\n",
        "joblib.dump(scaler, \"scaler.pkl\")\n",
        "print(\"\\n💾 Model saved as 'linear_regression_aqi.pkl'\")\n",
        "print(\"💾 Scaler saved as 'scaler.pkl'\")\n",
        "\n",
        "# Step 13: Example Prediction\n",
        "sample = X_test.iloc[0:1]\n",
        "scaled_sample = scaler.transform(sample)\n",
        "predicted_value = model.predict(scaled_sample)[0]\n",
        "print(\"\\nExample Prediction:\")\n",
        "print(\"Input:\", sample.to_dict(orient='records')[0])\n",
        "print(f\"Predicted {target_col}: {predicted_value:.2f}\")\n"
      ],
      "metadata": {
        "id": "4A_RTvGufB6d",
        "outputId": "38752806-95c4-44b0-a5dc-0d73d20d575a",
        "colab": {
          "base_uri": "https://localhost:8080/",
          "height": 1000
        }
      },
      "execution_count": 77,
      "outputs": [
        {
          "output_type": "stream",
          "name": "stdout",
          "text": [
            "✅ Data Loaded Successfully!\n",
            "                                            City  AQI  PM2.5  PM10    O3  \\\n",
            "0                    Gulzarpet, Anantapur, India   88   88.0  71.0  26.3   \n",
            "1  Anand Kala Kshetram, Rajamahendravaram, India   58   58.0  45.0  14.6   \n",
            "2                Tirumala-APPCB, Tirupati, India  110  110.0  53.0  15.0   \n",
            "3                 PWD Grounds, Vijayawada, India    -   52.0   NaN   5.1   \n",
            "4                  Naharlagun, Naharlagun, India   53   53.0  18.0   1.0   \n",
            "\n",
            "    NO2  SO2   CO   Latitude  Longitude                 Time  \n",
            "0   4.6  2.4  6.5  14.675886  77.593027  2024-05-04 18:00:00  \n",
            "1  12.0  6.9  6.7  16.987287  81.736318  2024-05-04 18:00:00  \n",
            "2  13.8  1.8  9.0  13.670000  79.350000  2024-05-04 18:00:00  \n",
            "3   0.7  4.9  4.2  16.507014  80.627767  2020-11-19 16:00:00  \n",
            "4   1.1  1.6  2.4  27.103358  93.679645  2024-05-04 09:00:00  \n",
            "\n",
            "Data Info:\n",
            "<class 'pandas.core.frame.DataFrame'>\n",
            "RangeIndex: 153 entries, 0 to 152\n",
            "Data columns (total 11 columns):\n",
            " #   Column     Non-Null Count  Dtype  \n",
            "---  ------     --------------  -----  \n",
            " 0   City       153 non-null    object \n",
            " 1   AQI        153 non-null    object \n",
            " 2   PM2.5      147 non-null    float64\n",
            " 3   PM10       136 non-null    float64\n",
            " 4   O3         133 non-null    float64\n",
            " 5   NO2        140 non-null    float64\n",
            " 6   SO2        136 non-null    float64\n",
            " 7   CO         133 non-null    float64\n",
            " 8   Latitude   153 non-null    float64\n",
            " 9   Longitude  153 non-null    float64\n",
            " 10  Time       152 non-null    object \n",
            "dtypes: float64(8), object(3)\n",
            "memory usage: 13.3+ KB\n",
            "None\n",
            "\n",
            "🎯 Target Selected: AQI\n",
            "\n",
            "✅ Numeric features selected:\n",
            "['PM2.5', 'PM10', 'O3', 'NO2', 'SO2', 'CO', 'Latitude', 'Longitude']\n",
            "\n",
            "✅ Model Training Complete!\n",
            "\n",
            "📊 Model Performance:\n",
            "R² Score : 0.984\n",
            "RMSE     : 18.385\n"
          ]
        },
        {
          "output_type": "display_data",
          "data": {
            "text/plain": [
              "<Figure size 600x500 with 1 Axes>"
            ],
            "image/png": "[encoded data removed]"
          },
          "metadata": {}
        },
        {
          "output_type": "stream",
          "name": "stdout",
          "text": [
            "\n",
            "💾 Model saved as 'linear_regression_aqi.pkl'\n",
            "💾 Scaler saved as 'scaler.pkl'\n",
            "\n",
            "Example Prediction:\n",
            "Input: {'PM2.5': 63.0, 'PM10': 36.0, 'O3': 16.5, 'NO2': 4.7, 'SO2': 13.4, 'CO': 4.0, 'Latitude': 22.9682591, 'Longitude': 76.064118}\n",
            "Predicted AQI: 59.65\n"
          ]
        }
      ]
    },
    {
      "cell_type": "code",
      "source": [
        "import joblib\n",
        "joblib.dump(lr, \"linear_regression_pm25.pkl\")\n"
      ],
      "metadata": {
        "colab": {
          "base_uri": "https://localhost:8080/"
        },
        "id": "3JRWCeYQ9X_s",
        "outputId": "26a9c148-b9d7-44f9-8fa4-ef45e78cf81d"
      },
      "execution_count": 67,
      "outputs": [
        {
          "output_type": "execute_result",
          "data": {
            "text/plain": [
              "['linear_regression_pm25.pkl']"
            ]
          },
          "metadata": {},
          "execution_count": 67
        }
      ]
    },
    {
      "cell_type": "code",
      "source": [
        "# Load the Linear Regression model\n",
        "lr_model = joblib.load(\"linear_regression_pm25.pkl\")\n"
      ],
      "metadata": {
        "id": "x4YNen1cA_Ig"
      },
      "execution_count": 68,
      "outputs": []
    },
    {
      "cell_type": "code",
      "source": [
        "!pip install streamlit pyngrok joblib --quiet\n"
      ],
      "metadata": {
        "id": "ArtelTOZJ-nG"
      },
      "execution_count": 69,
      "outputs": []
    },
    {
      "cell_type": "code",
      "source": [
        "from pyngrok import ngrok\n",
        "import os\n",
        "!ngrok authtoken 34ZfpjJ8DCqTLAjZDfVEytJ4e1l_5vLHTaWpjmTsit4dTfnhj"
      ],
      "metadata": {
        "colab": {
          "base_uri": "https://localhost:8080/"
        },
        "id": "YFa2HCkqItgE",
        "outputId": "01c1baf5-6390-4704-a6e7-c0c73a0a7383"
      },
      "execution_count": null,
      "outputs": [
        {
          "output_type": "stream",
          "name": "stdout",
          "text": [
            "Authtoken saved to configuration file: /root/.config/ngrok/ngrok.yml\n"
          ]
        }
      ]
    },
    {
      "cell_type": "code",
      "source": [
        "%%writefile app.py\n",
        "import streamlit as st\n",
        "import joblib\n",
        "import numpy as np\n",
        "import time\n",
        "\n",
        "# -------------------------\n",
        "# Load trained model and scaler\n",
        "# -------------------------\n",
        "lr_model = joblib.load(\"linear_regression_aqi.pkl\")\n",
        "scaler = joblib.load(\"scaler.pkl\")\n",
        "\n",
        "# -------------------------\n",
        "# Page setup\n",
        "# -------------------------\n",
        "st.set_page_config(page_title=\" Air Quality Prediction\", layout=\"centered\")\n",
        "st.markdown(\"\"\"\n",
        "    <style>\n",
        "        [data-testid=\"stAppViewContainer\"] {\n",
        "            background: linear-gradient(135deg, #e8f5e9 0%, #e3f2fd 100%);\n",
        "            color: #1b5e20;\n",
        "        }\n",
        "\n",
        "        h1 {\n",
        "            text-align: center;\n",
        "            color: #1b5e20;\n",
        "            font-size: 2.4em;\n",
        "            font-weight: 800;\n",
        "            margin-bottom: 10px;\n",
        "        }\n",
        "\n",
        "        h3 {\n",
        "            font-weight: 600;\n",
        "        }\n",
        "\n",
        "        /* Input labels */\n",
        "        label {\n",
        "            color: #004d40 !important;\n",
        "            font-weight: bold !important;\n",
        "        }\n",
        "\n",
        "        /* Buttons */\n",
        "        div.stButton > button:first-child {\n",
        "            background: linear-gradient(90deg, #43a047, #1b5e20);\n",
        "            color: white;\n",
        "            font-weight: 700;\n",
        "            border-radius: 10px;\n",
        "            padding: 0.6em 1.5em;\n",
        "            transition: 0.3s;\n",
        "        }\n",
        "        div.stButton > button:hover {\n",
        "            background: linear-gradient(90deg, #66bb6a, #2e7d32);\n",
        "            transform: scale(1.05);\n",
        "        }\n",
        "\n",
        "        /* Result box */\n",
        "        .result-box {\n",
        "            background: white;\n",
        "            border-radius: 15px;\n",
        "            padding: 20px;\n",
        "            box-shadow: 0 4px 20px rgba(0,0,0,0.1);\n",
        "            text-align: center;\n",
        "            margin-top: 20px;\n",
        "            animation: fadeIn 1s ease-in;\n",
        "        }\n",
        "\n",
        "        /* Category colors */\n",
        "        .good {color: #2e7d32;}\n",
        "        .moderate {color: #fbc02d;}\n",
        "        .unhealthy {color: #e53935;}\n",
        "        .very-unhealthy {color: #8e24aa;}\n",
        "        .hazardous {color: #6d1b1b;}\n",
        "\n",
        "        @keyframes fadeIn {\n",
        "            from {opacity: 0; transform: translateY(15px);}\n",
        "            to {opacity: 1; transform: translateY(0);}\n",
        "        }\n",
        "\n",
        "        [data-testid=\"stExpander\"] {\n",
        "            background-color: #f1f8e9 !important;\n",
        "            border-radius: 10px;\n",
        "            border: 1px solid #a5d6a7 !important;\n",
        "        }\n",
        "    </style>\n",
        "\"\"\", unsafe_allow_html=True)\n",
        "\n",
        "# -------------------------\n",
        "# Header\n",
        "# -------------------------\n",
        "st.title(\"🌿 Air Quality Prediction System\")\n",
        "\n",
        "\n",
        "# -------------------------\n",
        "# User Inputs\n",
        "# -------------------------\n",
        "city = st.text_input(\"Enter City Name (e.g., Delhi, Mumbai, Chennai)\")\n",
        "\n",
        "st.subheader(\" Enter Air Pollutant Levels (µg/m³)\")\n",
        "col1, col2, col3, col4 = st.columns(4)\n",
        "\n",
        "with col1:\n",
        "    PM10 = st.number_input(\" PM10\", value=80.0)\n",
        "    SO2 = st.number_input(\"🌋 SO₂\", value=10.0)\n",
        "with col2:\n",
        "    NO2 = st.number_input(\"🚗 NO₂\", value=25.0)\n",
        "    CO = st.number_input(\"🔥 CO (mg/m³)\", value=1.5)\n",
        "with col3:\n",
        "    O3 = st.number_input(\"☀️ O₃\", value=35.0)\n",
        "    NH3 = st.number_input(\"🐄 NH₃\", value=15.0)\n",
        "with col4:\n",
        "    NO3 = st.number_input(\"💧 NO₃\", value=20.0)\n",
        "    Benzene = st.number_input(\"🏭 Benzene\", value=5.0)\n",
        "\n",
        "# -------------------------\n",
        "# AQI Category Function\n",
        "# -------------------------\n",
        "def pm25_to_aqi_category(pm):\n",
        "    if pm <= 60:\n",
        "        return \"Good\", \"green\", \"😊 Excellent air quality — breathe freely!\"\n",
        "    elif pm <= 120:\n",
        "        return \"Moderate\", \"yellow\", \" Acceptable air quality — minimal risk.\"\n",
        "    elif pm <= 180:\n",
        "        return \"Unhealthy for Sensitive Groups\", \"orange\", \"😷 Sensitive people may feel discomfort.\"\n",
        "    elif pm <= 250:\n",
        "        return \"Unhealthy\", \"red\", \"❗ Everyone may experience some effects.\"\n",
        "    elif pm <= 350:\n",
        "        return \"Very Unhealthy\", \"purple\", \"⚠️ Health warnings — limit outdoor activity!\"\n",
        "    else:\n",
        "        return \"Hazardous\", \"maroon\", \"🚨 Dangerous — stay indoors and use masks!\"\n",
        "\n",
        "# -------------------------\n",
        "# Prediction\n",
        "# -------------------------\n",
        "if st.button(\" Predict Air Quality Now!\"):\n",
        "    if not city.strip():\n",
        "        st.error(\"❌ Please enter a city name.\")\n",
        "        st.stop()\n",
        "\n",
        "    with st.spinner(\" Analyzing your air data...\"):\n",
        "        time.sleep(1.5)\n",
        "\n",
        "    features = np.array([[PM10, NO2, SO2, CO, O3, NH3, NO3, Benzene]])\n",
        "    scaled_features = scaler.transform(features)\n",
        "    prediction = lr_model.predict(scaled_features)[0]\n",
        "    category, color, desc = pm25_to_aqi_category(prediction)\n",
        "\n",
        "    # Step-by-step reveal\n",
        "    with st.container():\n",
        "      st.markdown(f\"\"\"\n",
        "    <div class='result-box'>\n",
        "        <h3> City: <b>{city.title()}</b></h3>\n",
        "        <h3 style=\"color: {color};\">AQI Category: {category}</h3>\n",
        "        <p>{desc}</p>\n",
        "    </div>\n",
        "\"\"\", unsafe_allow_html=True)\n",
        "\n",
        "\n",
        "# -------------------------\n",
        "# Info Section\n",
        "# -------------------------\n",
        "with st.expander(\"📘 Learn About Each Pollutant\"):\n",
        "    st.markdown(\"\"\"\n",
        "-  **PM10:** Dust, smoke, and tiny solid particles\n",
        "- 🚗 **NO₂:** Vehicle exhaust gas, affects lungs\n",
        "- 🌋 **SO₂:** From coal or oil burning\n",
        "- 🔥 **CO:** Gas from incomplete combustion\n",
        "- ☀️ **O₃:** Ground-level ozone from sunlight reactions\n",
        "- 🐄 **NH₃:** Ammonia from fertilizers and animal waste\n",
        "- 💧 **NO₃:** Nitrates from chemical reactions in the air\n",
        "- 🏭 **Benzene:** Industrial and fuel-related emission\n",
        "    \"\"\")\n"
      ],
      "metadata": {
        "id": "l8Pp8nOyfV23",
        "outputId": "daed588e-91b6-4ff0-b9c7-7f682083d49a",
        "colab": {
          "base_uri": "https://localhost:8080/"
        }
      },
      "execution_count": 103,
      "outputs": [
        {
          "output_type": "stream",
          "name": "stdout",
          "text": [
            "Overwriting app.py\n"
          ]
        }
      ]
    },
    {
      "cell_type": "code",
      "source": [
        "!pip install streamlit pyngrok joblib --quiet\n",
        "\n",
        "# Kill any previous tunnels\n",
        "from pyngrok import ngrok\n",
        "ngrok.kill()\n",
        "\n",
        "# Start Streamlit in background\n",
        "get_ipython().system_raw(\n",
        "    'streamlit run /content/app.py --server.port 8502 --server.headless true &'\n",
        ")\n",
        "\n",
        "import time\n",
        "time.sleep(5)  # give Streamlit some time to start\n",
        "\n",
        "# Connect ngrok\n",
        "public_url = ngrok.connect(8502)\n",
        "print(\"🌐 Your live app URL:\", public_url)\n"
      ],
      "metadata": {
        "colab": {
          "base_uri": "https://localhost:8080/"
        },
        "id": "w1g5xKJ0L5lx",
        "outputId": "ecabf35d-97dc-4a6e-9f0d-61981a920f82"
      },
      "execution_count": 82,
      "outputs": [
        {
          "output_type": "stream",
          "name": "stdout",
          "text": [
            "🌐 Your live app URL: NgrokTunnel: \"https://cletus-pielike-preconfinedly.ngrok-free.dev\" -> \"http://localhost:8502\"\n"
          ]
        }
      ]
    }
  ]
}